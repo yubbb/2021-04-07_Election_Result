{
 "cells": [
  {
   "cell_type": "markdown",
   "metadata": {},
   "source": [
    "# 0. 데이터 불러오기 - 전체 데이터 중 유튜브 데이터만 사용"
   ]
  },
  {
   "cell_type": "code",
   "execution_count": 1,
   "metadata": {},
   "outputs": [
    {
     "output_type": "execute_result",
     "data": {
      "text/plain": [
       "                                                   Title        Date  \\\n",
       "0                        #139​ 민주당 지도부가 2030 마음을 얻으려면...  2021-04-08   \n",
       "1                        #139​ 민주당 지도부가 2030 마음을 얻으려면...  2021-04-08   \n",
       "2                        #139​ 민주당 지도부가 2030 마음을 얻으려면...  2021-04-08   \n",
       "3                        #139​ 민주당 지도부가 2030 마음을 얻으려면...  2021-04-08   \n",
       "4                        #139​ 민주당 지도부가 2030 마음을 얻으려면...  2021-04-08   \n",
       "...                                                  ...         ...   \n",
       "56824  [정치 맞수다] 대선가도 들어선 여·야의 서로 다른 잡음, 20대 남자 투표성향에 ...  2021-04-11   \n",
       "56825  [정치 맞수다] 대선가도 들어선 여·야의 서로 다른 잡음, 20대 남자 투표성향에 ...  2021-04-11   \n",
       "56826  [정치 맞수다] 대선가도 들어선 여·야의 서로 다른 잡음, 20대 남자 투표성향에 ...  2021-04-11   \n",
       "56827  [정치 맞수다] 대선가도 들어선 여·야의 서로 다른 잡음, 20대 남자 투표성향에 ...  2021-04-11   \n",
       "56828  [정치 맞수다] 대선가도 들어선 여·야의 서로 다른 잡음, 20대 남자 투표성향에 ...  2021-04-11   \n",
       "\n",
       "               ID                                            Comment  \\\n",
       "0           샤인디케이          내리막이 있으면 다시 오르막이 있는 법, 예방주사라 생각하고 힘들 냅시다.   \n",
       "1             문동렬  2030마음을 얻으려면 조언을 2030을 모셔다가 들어보는 성의를 보여야 됩니다. ...   \n",
       "2        135 swan  전 군대 전역 전까지는 보수를 지지했지만 대학에서 양극화에 관심을 가지면서 진보로 ...   \n",
       "3              미루  몸 안에서 무엇인가 무너져 내린 기분..그래도 힘내고 가야죠민주당은 뼈아픈 진단 새...   \n",
       "4             단아란                                   네 죄송합니다. 삭제하겠습니다   \n",
       "...           ...                                                ...   \n",
       "56824         유창준            간교한 인간성을 가진,  김종인, 안띨수를 섬기느니..  죽는게 났다.   \n",
       "56825         유정순             이준석 정치연륜이 뭐가있다고 이렇게 나와서 이야기를 많이 하고 다니나   \n",
       "56826  Hannah Kim  준석아 주댕이 조심해라.안철수가 할말이 옳다. 단일화 못햇우면 오세훈 승라없엇다. ...   \n",
       "56827         박계순                                         김준석  아웃 밉상   \n",
       "56828        느티나무                  토론자가 없어서 양문석, 이준석을 부르냐???한심하네~!!!   \n",
       "\n",
       "      Comment_date  Channel    Like  Dislike  Comment_like  \\\n",
       "0       2021-04-10    박시영TV  6400.0     83.0          48.0   \n",
       "1       2021-04-10    박시영TV  6400.0     83.0          37.0   \n",
       "2       2021-04-10    박시영TV  6400.0     83.0          34.0   \n",
       "3       2021-04-10    박시영TV  6400.0     83.0          67.0   \n",
       "4       2021-04-10    박시영TV  6400.0     83.0          34.0   \n",
       "...            ...      ...     ...      ...           ...   \n",
       "56824   2021-04-17  MBCNEWS   615.0     88.0           1.0   \n",
       "56825   2021-04-17  MBCNEWS   615.0     88.0           0.0   \n",
       "56826   2021-04-17  MBCNEWS   615.0     88.0           0.0   \n",
       "56827   2021-04-17  MBCNEWS   615.0     88.0           0.0   \n",
       "56828   2021-04-17  MBCNEWS   615.0     88.0           0.0   \n",
       "\n",
       "                                        Weighted_comment  \\\n",
       "0      ['내리막이 있으면 다시 오르막이 있는 법, 예방주사라 생각하고 힘들 냅시다.', ...   \n",
       "1      ['2030마음을 얻으려면 조언을 2030을 모셔다가 들어보는 성의를 보여야 됩니다...   \n",
       "2      ['전 군대 전역 전까지는 보수를 지지했지만 대학에서 양극화에 관심을 가지면서 진보...   \n",
       "3      ['몸 안에서 무엇인가 무너져 내린 기분..그래도 힘내고 가야죠민주당은 뼈아픈 진단...   \n",
       "4      ['네 죄송합니다. 삭제하겠습니다', '네 죄송합니다. 삭제하겠습니다', '네 죄송...   \n",
       "...                                                  ...   \n",
       "56824            간교한 인간성을 가진,  김종인, 안띨수를 섬기느니..  죽는게 났다.   \n",
       "56825             이준석 정치연륜이 뭐가있다고 이렇게 나와서 이야기를 많이 하고 다니나   \n",
       "56826  준석아 주댕이 조심해라.안철수가 할말이 옳다. 단일화 못햇우면 오세훈 승라없엇다. ...   \n",
       "56827                                         김준석  아웃 밉상   \n",
       "56828                  토론자가 없어서 양문석, 이준석을 부르냐???한심하네~!!!   \n",
       "\n",
       "                               Comment_textPreprocessing  \n",
       "0              내리막이 있으면 다시 오르막이 있는 법, 예방주사라 생각하고 힘들 냅시다.  \n",
       "1      2030 마음을 얻으려면 조언을 2030을 모셔다가 들어보는 성의를 보여야 합니다....  \n",
       "2      전 군대 전역 전까지는 보수를 지지했지만, 대학에서 양극화에 관심을 가지면서 진보로...  \n",
       "3      몸 안에서 무엇인가 무너져 내린 기분.. 그래도 힘내고 가야죠. 민주당은 뼈아픈 진...  \n",
       "4                                       네 죄송합니다. 삭제하겠습니다  \n",
       "...                                                  ...  \n",
       "56824           간교한 인간성을 가진, 김종인, 안 띨 수를 섬기느니.. 죽는 게 낫다.  \n",
       "56825          이준석 정치 연륜이 뭐가 있다고 이렇게 나와서 이야기를 많이 하고 다니나?  \n",
       "56826  준석아 주둥이 조심해라. 안철수가 할 말이 옳다. 단일화 못 했으면 오세훈 승리 없...  \n",
       "56827                                          김준석 아웃 밉상  \n",
       "56828                  토론자가 없어서 양문석, 이준석을 부르냐??? 한심하네!!!  \n",
       "\n",
       "[56829 rows x 11 columns]"
      ],
      "text/html": "<div>\n<style scoped>\n    .dataframe tbody tr th:only-of-type {\n        vertical-align: middle;\n    }\n\n    .dataframe tbody tr th {\n        vertical-align: top;\n    }\n\n    .dataframe thead th {\n        text-align: right;\n    }\n</style>\n<table border=\"1\" class=\"dataframe\">\n  <thead>\n    <tr style=\"text-align: right;\">\n      <th></th>\n      <th>Title</th>\n      <th>Date</th>\n      <th>ID</th>\n      <th>Comment</th>\n      <th>Comment_date</th>\n      <th>Channel</th>\n      <th>Like</th>\n      <th>Dislike</th>\n      <th>Comment_like</th>\n      <th>Weighted_comment</th>\n      <th>Comment_textPreprocessing</th>\n    </tr>\n  </thead>\n  <tbody>\n    <tr>\n      <th>0</th>\n      <td>#139​ 민주당 지도부가 2030 마음을 얻으려면...</td>\n      <td>2021-04-08</td>\n      <td>샤인디케이</td>\n      <td>내리막이 있으면 다시 오르막이 있는 법, 예방주사라 생각하고 힘들 냅시다.</td>\n      <td>2021-04-10</td>\n      <td>박시영TV</td>\n      <td>6400.0</td>\n      <td>83.0</td>\n      <td>48.0</td>\n      <td>['내리막이 있으면 다시 오르막이 있는 법, 예방주사라 생각하고 힘들 냅시다.', ...</td>\n      <td>내리막이 있으면 다시 오르막이 있는 법, 예방주사라 생각하고 힘들 냅시다.</td>\n    </tr>\n    <tr>\n      <th>1</th>\n      <td>#139​ 민주당 지도부가 2030 마음을 얻으려면...</td>\n      <td>2021-04-08</td>\n      <td>문동렬</td>\n      <td>2030마음을 얻으려면 조언을 2030을 모셔다가 들어보는 성의를 보여야 됩니다. ...</td>\n      <td>2021-04-10</td>\n      <td>박시영TV</td>\n      <td>6400.0</td>\n      <td>83.0</td>\n      <td>37.0</td>\n      <td>['2030마음을 얻으려면 조언을 2030을 모셔다가 들어보는 성의를 보여야 됩니다...</td>\n      <td>2030 마음을 얻으려면 조언을 2030을 모셔다가 들어보는 성의를 보여야 합니다....</td>\n    </tr>\n    <tr>\n      <th>2</th>\n      <td>#139​ 민주당 지도부가 2030 마음을 얻으려면...</td>\n      <td>2021-04-08</td>\n      <td>135 swan</td>\n      <td>전 군대 전역 전까지는 보수를 지지했지만 대학에서 양극화에 관심을 가지면서 진보로 ...</td>\n      <td>2021-04-10</td>\n      <td>박시영TV</td>\n      <td>6400.0</td>\n      <td>83.0</td>\n      <td>34.0</td>\n      <td>['전 군대 전역 전까지는 보수를 지지했지만 대학에서 양극화에 관심을 가지면서 진보...</td>\n      <td>전 군대 전역 전까지는 보수를 지지했지만, 대학에서 양극화에 관심을 가지면서 진보로...</td>\n    </tr>\n    <tr>\n      <th>3</th>\n      <td>#139​ 민주당 지도부가 2030 마음을 얻으려면...</td>\n      <td>2021-04-08</td>\n      <td>미루</td>\n      <td>몸 안에서 무엇인가 무너져 내린 기분..그래도 힘내고 가야죠민주당은 뼈아픈 진단 새...</td>\n      <td>2021-04-10</td>\n      <td>박시영TV</td>\n      <td>6400.0</td>\n      <td>83.0</td>\n      <td>67.0</td>\n      <td>['몸 안에서 무엇인가 무너져 내린 기분..그래도 힘내고 가야죠민주당은 뼈아픈 진단...</td>\n      <td>몸 안에서 무엇인가 무너져 내린 기분.. 그래도 힘내고 가야죠. 민주당은 뼈아픈 진...</td>\n    </tr>\n    <tr>\n      <th>4</th>\n      <td>#139​ 민주당 지도부가 2030 마음을 얻으려면...</td>\n      <td>2021-04-08</td>\n      <td>단아란</td>\n      <td>네 죄송합니다. 삭제하겠습니다</td>\n      <td>2021-04-10</td>\n      <td>박시영TV</td>\n      <td>6400.0</td>\n      <td>83.0</td>\n      <td>34.0</td>\n      <td>['네 죄송합니다. 삭제하겠습니다', '네 죄송합니다. 삭제하겠습니다', '네 죄송...</td>\n      <td>네 죄송합니다. 삭제하겠습니다</td>\n    </tr>\n    <tr>\n      <th>...</th>\n      <td>...</td>\n      <td>...</td>\n      <td>...</td>\n      <td>...</td>\n      <td>...</td>\n      <td>...</td>\n      <td>...</td>\n      <td>...</td>\n      <td>...</td>\n      <td>...</td>\n      <td>...</td>\n    </tr>\n    <tr>\n      <th>56824</th>\n      <td>[정치 맞수다] 대선가도 들어선 여·야의 서로 다른 잡음, 20대 남자 투표성향에 ...</td>\n      <td>2021-04-11</td>\n      <td>유창준</td>\n      <td>간교한 인간성을 가진,  김종인, 안띨수를 섬기느니..  죽는게 났다.</td>\n      <td>2021-04-17</td>\n      <td>MBCNEWS</td>\n      <td>615.0</td>\n      <td>88.0</td>\n      <td>1.0</td>\n      <td>간교한 인간성을 가진,  김종인, 안띨수를 섬기느니..  죽는게 났다.</td>\n      <td>간교한 인간성을 가진, 김종인, 안 띨 수를 섬기느니.. 죽는 게 낫다.</td>\n    </tr>\n    <tr>\n      <th>56825</th>\n      <td>[정치 맞수다] 대선가도 들어선 여·야의 서로 다른 잡음, 20대 남자 투표성향에 ...</td>\n      <td>2021-04-11</td>\n      <td>유정순</td>\n      <td>이준석 정치연륜이 뭐가있다고 이렇게 나와서 이야기를 많이 하고 다니나</td>\n      <td>2021-04-17</td>\n      <td>MBCNEWS</td>\n      <td>615.0</td>\n      <td>88.0</td>\n      <td>0.0</td>\n      <td>이준석 정치연륜이 뭐가있다고 이렇게 나와서 이야기를 많이 하고 다니나</td>\n      <td>이준석 정치 연륜이 뭐가 있다고 이렇게 나와서 이야기를 많이 하고 다니나?</td>\n    </tr>\n    <tr>\n      <th>56826</th>\n      <td>[정치 맞수다] 대선가도 들어선 여·야의 서로 다른 잡음, 20대 남자 투표성향에 ...</td>\n      <td>2021-04-11</td>\n      <td>Hannah Kim</td>\n      <td>준석아 주댕이 조심해라.안철수가 할말이 옳다. 단일화 못햇우면 오세훈 승라없엇다. ...</td>\n      <td>2021-04-17</td>\n      <td>MBCNEWS</td>\n      <td>615.0</td>\n      <td>88.0</td>\n      <td>0.0</td>\n      <td>준석아 주댕이 조심해라.안철수가 할말이 옳다. 단일화 못햇우면 오세훈 승라없엇다. ...</td>\n      <td>준석아 주둥이 조심해라. 안철수가 할 말이 옳다. 단일화 못 했으면 오세훈 승리 없...</td>\n    </tr>\n    <tr>\n      <th>56827</th>\n      <td>[정치 맞수다] 대선가도 들어선 여·야의 서로 다른 잡음, 20대 남자 투표성향에 ...</td>\n      <td>2021-04-11</td>\n      <td>박계순</td>\n      <td>김준석  아웃 밉상</td>\n      <td>2021-04-17</td>\n      <td>MBCNEWS</td>\n      <td>615.0</td>\n      <td>88.0</td>\n      <td>0.0</td>\n      <td>김준석  아웃 밉상</td>\n      <td>김준석 아웃 밉상</td>\n    </tr>\n    <tr>\n      <th>56828</th>\n      <td>[정치 맞수다] 대선가도 들어선 여·야의 서로 다른 잡음, 20대 남자 투표성향에 ...</td>\n      <td>2021-04-11</td>\n      <td>느티나무</td>\n      <td>토론자가 없어서 양문석, 이준석을 부르냐???한심하네~!!!</td>\n      <td>2021-04-17</td>\n      <td>MBCNEWS</td>\n      <td>615.0</td>\n      <td>88.0</td>\n      <td>0.0</td>\n      <td>토론자가 없어서 양문석, 이준석을 부르냐???한심하네~!!!</td>\n      <td>토론자가 없어서 양문석, 이준석을 부르냐??? 한심하네!!!</td>\n    </tr>\n  </tbody>\n</table>\n<p>56829 rows × 11 columns</p>\n</div>"
     },
     "metadata": {},
     "execution_count": 1
    }
   ],
   "source": [
    "import pandas as pd\n",
    "\n",
    "df = pd.read_csv('../data/전처리데이터/data2030_전처리_좋아요가중치_텍스트전처리.csv')\n",
    "df"
   ]
  },
  {
   "cell_type": "markdown",
   "metadata": {},
   "source": [
    "# 1. 댓글 전처리 칼럼 문장 분리하기"
   ]
  },
  {
   "cell_type": "markdown",
   "metadata": {},
   "source": [
    "#### 전처리 2 : 문장 분리기 - KSS"
   ]
  },
  {
   "cell_type": "code",
   "execution_count": 2,
   "metadata": {},
   "outputs": [],
   "source": [
    "# 주의 : 관리자 권한 필요\n",
    "# pip install kss"
   ]
  },
  {
   "cell_type": "markdown",
   "metadata": {},
   "source": [
    "#### 전처리 5 : 띄어쓰기 & 맞춤법 교정 - 부산대 맞춤법 교정기"
   ]
  },
  {
   "cell_type": "code",
   "execution_count": 3,
   "metadata": {},
   "outputs": [],
   "source": [
    "# 주의 : 개인 사용 가능하다고 공지되어 있지만 부산대학교 인공지능연구실에 사전 승낙 필요\n",
    "# 깃 사이트 : https://github.com/karipe/korean_speller\n",
    "# 깃에서 다운 받아 사용하는 방법 모름\n",
    "# 셀레니움으로 대체 (https://hong-yp-ml-records.tistory.com/99)\n",
    "# 환경 : 셀레니움\n",
    "# !pip install Selenium \n",
    "# !apt-get update \n",
    "# !apt install chromium-chromedriver "
   ]
  },
  {
   "cell_type": "code",
   "execution_count": 4,
   "metadata": {},
   "outputs": [
    {
     "name": "stderr",
     "output_type": "stream",
     "text": [
      "C:\\ProgramData\\Anaconda3\\lib\\site-packages\\ipykernel_launcher.py:8: DeprecationWarning: use options instead of chrome_options\n",
      "  \n"
     ]
    }
   ],
   "source": [
    "from selenium import webdriver \n",
    "import time \n",
    "\n",
    "chrome_options = webdriver.ChromeOptions() \n",
    "chrome_options.add_argument('--headless') \n",
    "chrome_options.add_argument('--no-sandbox') \n",
    "chrome_options.add_argument('--disable-dev-shm-usage') \n",
    "wd = webdriver.Chrome('chromedriver',chrome_options=chrome_options)\n",
    "\n",
    "def spell_checking(sentence): \n",
    "    time.sleep(0.5) \n",
    "    wd.get('http://speller.cs.pusan.ac.kr/') \n",
    "    try: \n",
    "        wd.find_element_by_xpath('//*[@id=\"text1\"]').send_keys(sentence) \n",
    "        wd.find_element_by_xpath('//*[@id=\"btnCheck\"]').click() \n",
    "        time.sleep(1) \n",
    "        entity_num = 0 \n",
    "        while True: \n",
    "            try: \n",
    "                wd.find_element_by_xpath('//*[@id=\"tdReplaceWord_'+str(entity_num)+'\"]/ul/li/a').click() \n",
    "                entity_num += 1 \n",
    "            except: \n",
    "                break \n",
    "        \n",
    "        texts = wd.find_element_by_xpath('//*[@id=\"tdCorrection1stBox\"]').text \n",
    "        return texts \n",
    "    except: \n",
    "        sentence"
   ]
  },
  {
   "cell_type": "markdown",
   "metadata": {},
   "source": [
    "## 문장 분리 함수"
   ]
  },
  {
   "cell_type": "code",
   "execution_count": 5,
   "metadata": {},
   "outputs": [],
   "source": [
    "import kss\n",
    "\n",
    "def textSplitting(comment):\n",
    "    \n",
    "    comment_list = []\n",
    "    for sent in kss.split_sentences(comment):\n",
    "        # print(sent)\n",
    "    \n",
    "        # 4. 부산대 맞춤법 교정기, 띄어쓰기 & 맞춤법 교정\n",
    "        checked_comment = spell_checking(sent)\n",
    "        if not checked_comment:\n",
    "            # print('고칠 내용 없음')\n",
    "            comment_list.append(sent)\n",
    "        else:\n",
    "            # print(f'고쳐진 문장 : {checked_comment}')\n",
    "            corrected_comments = textSplitting(checked_comment)\n",
    "            comment_list.append(corrected_comments)\n",
    "                  \n",
    "    return comment_list"
   ]
  },
  {
   "cell_type": "markdown",
   "metadata": {},
   "source": [
    "## 리스트 중첩 제거 함수"
   ]
  },
  {
   "cell_type": "code",
   "execution_count": 11,
   "metadata": {},
   "outputs": [],
   "source": [
    "# 리스트의 요소가 동일한 타입으로 이루어졌는지 확인하는 함수\n",
    "def listWithoutOverlapped(comment):\n",
    "    \n",
    "    chk_type = set([type(text) for text in comment])\n",
    "    # 동일한 타입이면\n",
    "    if len(chk_type) == 1:\n",
    "        # 동일한 타입이 str이면\n",
    "        if str(chk_type) == \"{<class 'str'>}\":\n",
    "            # print('텍스트')\n",
    "            # 그대로 반환\n",
    "            return comment\n",
    "        # 동일한 타입이 list이면\n",
    "        else:\n",
    "            # print('리스트')\n",
    "            # 리스트 중첩 제거하기\n",
    "            comment = sum(comment, [])\n",
    "            # print(comment)\n",
    "            comment = listWithoutOverlapped(comment)\n",
    "            return comment\n",
    "            \n",
    "    # 동일한 타입이 아니면\n",
    "    else:       \n",
    "        comment = removeOverlappedList(comment)\n",
    "        return comment\n",
    "            \n"
   ]
  },
  {
   "cell_type": "code",
   "execution_count": 12,
   "metadata": {},
   "outputs": [],
   "source": [
    "# 혼합 타입인 경우 리스트인 요소 풀어서 담기\n",
    "def removeOverlappedList(comment):\n",
    "    # 결과를 담을 리스트\n",
    "    comment_list = []\n",
    "    \n",
    "    for text in comment:\n",
    "        # 혼합 타입의 요소가 str이면\n",
    "        if str(type(text)) == \"<class 'str'>\":\n",
    "            comment_list.append(text)\n",
    "        # 혼합 타입의 요소가 list이면\n",
    "        else:\n",
    "            y = listWithoutOverlapped(text)\n",
    "            for yy in y:\n",
    "                comment_list.append(yy)\n",
    "                \n",
    "    return comment_list"
   ]
  },
  {
   "cell_type": "code",
   "execution_count": 16,
   "metadata": {},
   "outputs": [
    {
     "name": "stdout",
     "output_type": "stream",
     "text": [
      "2번째 문장 분리 수행 중\n",
      "원문 : 오늘도 피가 되고 살이 되는 방송 잘 봤습니다민주당 의원들이 의외로 다스뵈이다나 박시영 tv 등을 잘 안 본다는데 그게 맞나요?이번 초석 5적들의 사과 성명문등을 보면 그게 확실한 것처럼 보여서요 패배 후 정말 암담했지만 그래도 박시영 대표님과 김어준 총수가 있어서 그나마 다행입니다\n",
      "분리 : ['오늘도 피가 되고 살이 되는 방송 잘 봤습니다.', '민주당 의원들의 외로 다수 뵈니 다나 박시영 TV 등을 잘 안 본다는 데 그게 맞나요?', '이번 초석 5적들의 사과 성명문 등을 보면 그게 확실한 것처럼 보여서 요 패배 후 정말 암담했지만 그래도 박시영 대표님과 김어준 총수가 있어서 그나마 다행입니다']\n",
      "--------------------------------------------------\n"
     ]
    }
   ],
   "source": [
    "import pickle\n",
    "\n",
    "start_idx = 100\n",
    "\n",
    "split_comment_list = []\n",
    "for i, comment in enumerate(df['Comment_textPreprocessing'][start_idx:]):\n",
    "    comment_list = textSplitting(comment)\n",
    "    # print(f'원문 : {comment}')\n",
    "    # print(f'분리 : {comment_list}')\n",
    "    # print('-'*50)\n",
    "     \n",
    "    comment_list = listWithoutOverlapped(comment_list)\n",
    "    split_comment_list.append(comment_list)\n",
    "    \n",
    "    ori_comment = df['Comment'].iloc[start_idx + i]\n",
    "    if i == 2:\n",
    "        print(f'{i}번째 문장 분리 수행 중')\n",
    "        print(f'원문 : {ori_comment}')\n",
    "        print(f'분리 : {comment_list}')\n",
    "        print('-'*50)\n",
    "        \n",
    "        # 100번 마다 문장 분리 수행한 결과 저장\n",
    "        filePath = './comment_split.txt'\n",
    "        with open(filePath, 'wb') as lf:\n",
    "            pickle.dump(split_comment_list, lf)\n",
    "            \n",
    "        break\n",
    "\n",
    "   "
   ]
  },
  {
   "cell_type": "code",
   "execution_count": 17,
   "metadata": {},
   "outputs": [
    {
     "data": {
      "text/plain": [
       "3"
      ]
     },
     "execution_count": 17,
     "metadata": {},
     "output_type": "execute_result"
    }
   ],
   "source": [
    "len(split_comment_list)"
   ]
  },
  {
   "cell_type": "code",
   "execution_count": 18,
   "metadata": {},
   "outputs": [
    {
     "data": {
      "text/plain": [
       "'오늘도 피가 되고 살이 되는 방송 잘 봤습니다. 민주당 의원들의 외로 다수 뵈니 다나 박시영 TV 등을 잘 안 본다는 데 그게 맞나요? 이번 초석 5적들의 사과 성명문 등을 보면 그게 확실한 것처럼 보여서 요 패배 후 정말 암담했지만 그래도 박시영 대표님과 김어준 총수가 있어서 그나마 다행입니다'"
      ]
     },
     "execution_count": 18,
     "metadata": {},
     "output_type": "execute_result"
    }
   ],
   "source": [
    "df['Comment_textPreprocessing'].loc[start_idx + len(split_comment_list)-1]"
   ]
  },
  {
   "cell_type": "code",
   "execution_count": 19,
   "metadata": {},
   "outputs": [
    {
     "data": {
      "text/plain": [
       "['오늘도 피가 되고 살이 되는 방송 잘 봤습니다.',\n",
       " '민주당 의원들의 외로 다수 뵈니 다나 박시영 TV 등을 잘 안 본다는 데 그게 맞나요?',\n",
       " '이번 초석 5적들의 사과 성명문 등을 보면 그게 확실한 것처럼 보여서 요 패배 후 정말 암담했지만 그래도 박시영 대표님과 김어준 총수가 있어서 그나마 다행입니다']"
      ]
     },
     "execution_count": 19,
     "metadata": {},
     "output_type": "execute_result"
    }
   ],
   "source": [
    "split_comment_list[-1]"
   ]
  },
  {
   "cell_type": "code",
   "execution_count": null,
   "metadata": {},
   "outputs": [],
   "source": [
    "start_idx = 100\n",
    "\n",
    "for i, comment in enumerate(df['Comment_textPreprocessing'][start_idx + len(split_comment_list):]):\n",
    "    comment_list = textSplitting(comment)\n",
    "    # print(f'원문 : {comment}')\n",
    "    # print(f'분리 : {comment_list}')\n",
    "    # print('-'*50)\n",
    "     \n",
    "    comment_list = listWithoutOverlapped(comment_list)\n",
    "    split_comment_list.append(comment_list)\n",
    "    \n",
    "    ori_comment = df['Comment'].iloc[start_idx + i]\n",
    "    if i == 2:\n",
    "        print(f'{i}번째 문장 분리 수행 중')\n",
    "        print(f'원문 : {ori_comment}')\n",
    "        print(f'분리 : {comment_list}')\n",
    "        print('-'*50)\n",
    "        \n",
    "        # 100번 마다 문장 분리 수행한 결과 저장\n",
    "        filePath = './comment_split.txt'\n",
    "        with open(filePath, 'wb') as lf:\n",
    "            pickle.dump(split_comment_list, lf)\n",
    "            \n",
    "        break\n",
    "\n",
    "   "
   ]
  }
 ],
 "metadata": {
  "kernelspec": {
   "name": "python376jvsc74a57bd06bd18ff4b8d78789dc0c4fe3ce3d1752f57bd4a78312d15f34612069d81af063",
   "display_name": "Python 3.7.6 64-bit"
  },
  "language_info": {
   "codemirror_mode": {
    "name": "ipython",
    "version": 3
   },
   "file_extension": ".py",
   "mimetype": "text/x-python",
   "name": "python",
   "nbconvert_exporter": "python",
   "pygments_lexer": "ipython3",
   "version": "3.7.6"
  }
 },
 "nbformat": 4,
 "nbformat_minor": 4
}