{
 "cells": [
  {
   "cell_type": "markdown",
   "metadata": {},
   "source": [
    "# 0. 데이터 불러오기 - 전체 데이터 중 유튜브 데이터만 사용"
   ]
  },
  {
   "cell_type": "code",
   "execution_count": 1,
   "metadata": {},
   "outputs": [
    {
     "data": {
      "text/html": "<div>\n<style scoped>\n    .dataframe tbody tr th:only-of-type {\n        vertical-align: middle;\n    }\n\n    .dataframe tbody tr th {\n        vertical-align: top;\n    }\n\n    .dataframe thead th {\n        text-align: right;\n    }\n</style>\n<table border=\"1\" class=\"dataframe\">\n  <thead>\n    <tr style=\"text-align: right;\">\n      <th></th>\n      <th>Title</th>\n      <th>Date</th>\n      <th>ID</th>\n      <th>Comment</th>\n      <th>Comment_date</th>\n      <th>Channel</th>\n      <th>Like</th>\n      <th>Dislike</th>\n      <th>Comment_like</th>\n    </tr>\n  </thead>\n  <tbody>\n    <tr>\n      <th>0</th>\n      <td>#139​ 민주당 지도부가 2030 마음을 얻으려면...</td>\n      <td>2021-04-08</td>\n      <td>샤인디케이</td>\n      <td>내리막이 있으면 다시 오르막이 있는 법, 예방주사라 생각하고 힘들 냅시다.</td>\n      <td>2021-04-10</td>\n      <td>박시영TV</td>\n      <td>6.4천</td>\n      <td>83</td>\n      <td>48</td>\n    </tr>\n    <tr>\n      <th>1</th>\n      <td>#139​ 민주당 지도부가 2030 마음을 얻으려면...</td>\n      <td>2021-04-08</td>\n      <td>문동렬</td>\n      <td>2030마음을 얻으려면 조언을 2030을 모셔다가 들어보는 성의를 보여야 됩니다. ...</td>\n      <td>2021-04-10</td>\n      <td>박시영TV</td>\n      <td>6.4천</td>\n      <td>83</td>\n      <td>37</td>\n    </tr>\n    <tr>\n      <th>2</th>\n      <td>#139​ 민주당 지도부가 2030 마음을 얻으려면...</td>\n      <td>2021-04-08</td>\n      <td>135 swan</td>\n      <td>전 군대 전역 전까지는 보수를 지지했지만 대학에서 양극화에 관심을 가지면서 진보로 ...</td>\n      <td>2021-04-10</td>\n      <td>박시영TV</td>\n      <td>6.4천</td>\n      <td>83</td>\n      <td>34</td>\n    </tr>\n    <tr>\n      <th>3</th>\n      <td>#139​ 민주당 지도부가 2030 마음을 얻으려면...</td>\n      <td>2021-04-08</td>\n      <td>미루</td>\n      <td>몸 안에서 무엇인가 무너져 내린 기분..그래도 힘내고 가야죠민주당은 뼈아픈 진단 새...</td>\n      <td>2021-04-10</td>\n      <td>박시영TV</td>\n      <td>6.4천</td>\n      <td>83</td>\n      <td>67</td>\n    </tr>\n    <tr>\n      <th>4</th>\n      <td>#139​ 민주당 지도부가 2030 마음을 얻으려면...</td>\n      <td>2021-04-08</td>\n      <td>단아란</td>\n      <td>네 죄송합니다. 삭제하겠습니다</td>\n      <td>2021-04-10</td>\n      <td>박시영TV</td>\n      <td>6.4천</td>\n      <td>83</td>\n      <td>34</td>\n    </tr>\n    <tr>\n      <th>...</th>\n      <td>...</td>\n      <td>...</td>\n      <td>...</td>\n      <td>...</td>\n      <td>...</td>\n      <td>...</td>\n      <td>...</td>\n      <td>...</td>\n      <td>...</td>\n    </tr>\n    <tr>\n      <th>56824</th>\n      <td>[정치 맞수다] 대선가도 들어선 여·야의 서로 다른 잡음, 20대 남자 투표성향에 ...</td>\n      <td>2021-04-11</td>\n      <td>유창준</td>\n      <td>간교한 인간성을 가진,  김종인, 안띨수를 섬기느니..  죽는게 났다.</td>\n      <td>2021-04-17</td>\n      <td>MBCNEWS</td>\n      <td>615</td>\n      <td>88</td>\n      <td>1</td>\n    </tr>\n    <tr>\n      <th>56825</th>\n      <td>[정치 맞수다] 대선가도 들어선 여·야의 서로 다른 잡음, 20대 남자 투표성향에 ...</td>\n      <td>2021-04-11</td>\n      <td>유정순</td>\n      <td>이준석 정치연륜이 뭐가있다고 이렇게 나와서 이야기를 많이 하고 다니나</td>\n      <td>2021-04-17</td>\n      <td>MBCNEWS</td>\n      <td>615</td>\n      <td>88</td>\n      <td>0</td>\n    </tr>\n    <tr>\n      <th>56826</th>\n      <td>[정치 맞수다] 대선가도 들어선 여·야의 서로 다른 잡음, 20대 남자 투표성향에 ...</td>\n      <td>2021-04-11</td>\n      <td>Hannah Kim</td>\n      <td>준석아 주댕이 조심해라.안철수가 할말이 옳다. 단일화 못햇우면 오세훈 승라없엇다. ...</td>\n      <td>2021-04-17</td>\n      <td>MBCNEWS</td>\n      <td>615</td>\n      <td>88</td>\n      <td>0</td>\n    </tr>\n    <tr>\n      <th>56827</th>\n      <td>[정치 맞수다] 대선가도 들어선 여·야의 서로 다른 잡음, 20대 남자 투표성향에 ...</td>\n      <td>2021-04-11</td>\n      <td>박계순</td>\n      <td>김준석  아웃 밉상</td>\n      <td>2021-04-17</td>\n      <td>MBCNEWS</td>\n      <td>615</td>\n      <td>88</td>\n      <td>0</td>\n    </tr>\n    <tr>\n      <th>56828</th>\n      <td>[정치 맞수다] 대선가도 들어선 여·야의 서로 다른 잡음, 20대 남자 투표성향에 ...</td>\n      <td>2021-04-11</td>\n      <td>느티나무</td>\n      <td>토론자가 없어서 양문석, 이준석을 부르냐???한심하네~!!!</td>\n      <td>2021-04-17</td>\n      <td>MBCNEWS</td>\n      <td>615</td>\n      <td>88</td>\n      <td>0</td>\n    </tr>\n  </tbody>\n</table>\n<p>56829 rows × 9 columns</p>\n</div>",
      "text/plain": "                                                   Title        Date  \\\n0                        #139​ 민주당 지도부가 2030 마음을 얻으려면...  2021-04-08   \n1                        #139​ 민주당 지도부가 2030 마음을 얻으려면...  2021-04-08   \n2                        #139​ 민주당 지도부가 2030 마음을 얻으려면...  2021-04-08   \n3                        #139​ 민주당 지도부가 2030 마음을 얻으려면...  2021-04-08   \n4                        #139​ 민주당 지도부가 2030 마음을 얻으려면...  2021-04-08   \n...                                                  ...         ...   \n56824  [정치 맞수다] 대선가도 들어선 여·야의 서로 다른 잡음, 20대 남자 투표성향에 ...  2021-04-11   \n56825  [정치 맞수다] 대선가도 들어선 여·야의 서로 다른 잡음, 20대 남자 투표성향에 ...  2021-04-11   \n56826  [정치 맞수다] 대선가도 들어선 여·야의 서로 다른 잡음, 20대 남자 투표성향에 ...  2021-04-11   \n56827  [정치 맞수다] 대선가도 들어선 여·야의 서로 다른 잡음, 20대 남자 투표성향에 ...  2021-04-11   \n56828  [정치 맞수다] 대선가도 들어선 여·야의 서로 다른 잡음, 20대 남자 투표성향에 ...  2021-04-11   \n\n               ID                                            Comment  \\\n0           샤인디케이          내리막이 있으면 다시 오르막이 있는 법, 예방주사라 생각하고 힘들 냅시다.   \n1             문동렬  2030마음을 얻으려면 조언을 2030을 모셔다가 들어보는 성의를 보여야 됩니다. ...   \n2        135 swan  전 군대 전역 전까지는 보수를 지지했지만 대학에서 양극화에 관심을 가지면서 진보로 ...   \n3              미루  몸 안에서 무엇인가 무너져 내린 기분..그래도 힘내고 가야죠민주당은 뼈아픈 진단 새...   \n4             단아란                                   네 죄송합니다. 삭제하겠습니다   \n...           ...                                                ...   \n56824         유창준            간교한 인간성을 가진,  김종인, 안띨수를 섬기느니..  죽는게 났다.   \n56825         유정순             이준석 정치연륜이 뭐가있다고 이렇게 나와서 이야기를 많이 하고 다니나   \n56826  Hannah Kim  준석아 주댕이 조심해라.안철수가 할말이 옳다. 단일화 못햇우면 오세훈 승라없엇다. ...   \n56827         박계순                                         김준석  아웃 밉상   \n56828        느티나무                  토론자가 없어서 양문석, 이준석을 부르냐???한심하네~!!!   \n\n      Comment_date  Channel  Like Dislike Comment_like  \n0       2021-04-10    박시영TV  6.4천      83           48  \n1       2021-04-10    박시영TV  6.4천      83           37  \n2       2021-04-10    박시영TV  6.4천      83           34  \n3       2021-04-10    박시영TV  6.4천      83           67  \n4       2021-04-10    박시영TV  6.4천      83           34  \n...            ...      ...   ...     ...          ...  \n56824   2021-04-17  MBCNEWS   615      88            1  \n56825   2021-04-17  MBCNEWS   615      88            0  \n56826   2021-04-17  MBCNEWS   615      88            0  \n56827   2021-04-17  MBCNEWS   615      88            0  \n56828   2021-04-17  MBCNEWS   615      88            0  \n\n[56829 rows x 9 columns]"
     },
     "execution_count": 1,
     "metadata": {},
     "output_type": "execute_result"
    }
   ],
   "source": [
    "import pandas as pd\n",
    "\n",
    "df = pd.read_csv('../data/data2030.csv', index_col=0)\n",
    "df.reset_index(drop=True, inplace=True)\n",
    "df"
   ]
  },
  {
   "cell_type": "markdown",
   "metadata": {},
   "source": [
    "# 1. 댓글 칼럼 한글 전처리하기"
   ]
  },
  {
   "cell_type": "markdown",
   "metadata": {},
   "source": [
    "#### 전처리 1 : 한글, ?!., 이외 문자 모두 제거 - 정규식 사용"
   ]
  },
  {
   "cell_type": "code",
   "execution_count": 2,
   "metadata": {},
   "outputs": [],
   "source": [
    "import re\n",
    "\n",
    "# 텍스트 정제 함수 \n",
    "def text_cleaning(text):\n",
    "    # 한글 정규식 정의(띄어쓰기, ㄱ~ㅣ, 가~힣)\n",
    "    hangul = re.compile('[^ ㄱ-ㅣ가-힣0-9a-zA-Z?!.,]+')\n",
    "    # 정제한다(정규식에 해당하지 않는 문자는 길이가 0인 문자열로 변환한다)\n",
    "    result = hangul.sub('', text)\n",
    "    return result"
   ]
  },
  {
   "cell_type": "markdown",
   "metadata": {},
   "source": [
    "#### 전처리 2 : 문장 분리기 - KSS"
   ]
  },
  {
   "cell_type": "code",
   "execution_count": 3,
   "metadata": {},
   "outputs": [],
   "source": [
    "# 주의 : 관리자 권한 필요\n",
    "# pip install kss"
   ]
  },
  {
   "cell_type": "markdown",
   "metadata": {},
   "source": [
    "#### 전처리 3 : 띄어쓰기 교정 - pykospacing"
   ]
  },
  {
   "cell_type": "code",
   "execution_count": 4,
   "metadata": {},
   "outputs": [],
   "source": [
    "# 설치 시 주의사항 : 관리자 권한 필요\n",
    "# 환경 : tensorflow 2.4.0 버전에서 작동\n",
    "# 설치 : pip install git+https://github.com/haven-jeon/PyKoSpacing.git"
   ]
  },
  {
   "cell_type": "code",
   "execution_count": 5,
   "metadata": {},
   "outputs": [
    {
     "name": "stdout",
     "output_type": "stream",
     "text": [
      "[PhysicalDevice(name='/physical_device:GPU:0', device_type='GPU')]\n"
     ]
    }
   ],
   "source": [
    "import tensorflow as tf\n",
    "# GPU 메모리 사용량을 필요한 만큼만 증가하도록 설정한다.\n",
    "# 사용 가능한 GPU 목록을 가져온다.\n",
    "gpus = tf.config.experimental.list_physical_devices('GPU')\n",
    "print(gpus)\n",
    "if gpus : \n",
    "    try :\n",
    "        # 필요한 만큼만 메모리를 사용할 수 있도록 설정한다.\n",
    "        for gpu in gpus :\n",
    "            tf.config.experimental.set_memory_growth(gpu, True)\n",
    "    except RuntimeError as e:\n",
    "        print(e)"
   ]
  },
  {
   "cell_type": "markdown",
   "metadata": {},
   "source": [
    "#### 전처리 4 : 띄어쓰기 & 맞춤법 교정 - py-hanspell"
   ]
  },
  {
   "cell_type": "code",
   "execution_count": 6,
   "metadata": {},
   "outputs": [],
   "source": [
    "# pip install git+https://github.com/ssut/py-hanspell.git"
   ]
  },
  {
   "cell_type": "markdown",
   "metadata": {},
   "source": [
    "#### 전처리 5 : 띄어쓰기 & 맞춤법 교정 - 부산대 맞춤법 교정기"
   ]
  },
  {
   "cell_type": "code",
   "execution_count": 7,
   "metadata": {},
   "outputs": [],
   "source": [
    "# 주의 : 개인 사용 가능하다고 공지되어 있지만 부산대학교 인공지능연구실에 사전 승낙 필요\n",
    "# 깃 사이트 : https://github.com/karipe/korean_speller\n",
    "# 깃에서 다운 받아 사용하는 방법 모름\n",
    "# 셀레니움으로 대체 (https://hong-yp-ml-records.tistory.com/99)\n",
    "# 환경 : 셀레니움\n",
    "# !pip install Selenium \n",
    "# !apt-get update \n",
    "# !apt install chromium-chromedriver "
   ]
  },
  {
   "cell_type": "code",
   "execution_count": 8,
   "metadata": {},
   "outputs": [
    {
     "name": "stderr",
     "output_type": "stream",
     "text": [
      "C:\\ProgramData\\Anaconda3\\lib\\site-packages\\ipykernel_launcher.py:8: DeprecationWarning: use options instead of chrome_options\n",
      "  \n"
     ]
    }
   ],
   "source": [
    "from selenium import webdriver \n",
    "import time \n",
    "\n",
    "chrome_options = webdriver.ChromeOptions() \n",
    "chrome_options.add_argument('--headless') \n",
    "chrome_options.add_argument('--no-sandbox') \n",
    "chrome_options.add_argument('--disable-dev-shm-usage') \n",
    "wd = webdriver.Chrome('chromedriver',chrome_options=chrome_options)\n",
    "\n",
    "def spell_checking(sentence): \n",
    "    time.sleep(0.5) \n",
    "    wd.get('http://speller.cs.pusan.ac.kr/') \n",
    "    try: \n",
    "        wd.find_element_by_xpath('//*[@id=\"text1\"]').send_keys(sentence) \n",
    "        wd.find_element_by_xpath('//*[@id=\"btnCheck\"]').click() \n",
    "        time.sleep(1) \n",
    "        entity_num = 0 \n",
    "        while True: \n",
    "            try: \n",
    "                wd.find_element_by_xpath('//*[@id=\"tdReplaceWord_'+str(entity_num)+'\"]/ul/li/a').click() \n",
    "                entity_num += 1 \n",
    "            except: \n",
    "                break \n",
    "        \n",
    "        texts = wd.find_element_by_xpath('//*[@id=\"tdCorrection1stBox\"]').text \n",
    "        return texts \n",
    "    except: \n",
    "        sentence"
   ]
  },
  {
   "cell_type": "markdown",
   "metadata": {},
   "source": [
    "## 한글 전처리 함수"
   ]
  },
  {
   "cell_type": "code",
   "execution_count": 9,
   "metadata": {},
   "outputs": [],
   "source": [
    "import kss\n",
    "from pykospacing import spacing\n",
    "from hanspell import spell_checker\n",
    "\n",
    "def textPreprocessing(comment):\n",
    "    \n",
    "    # 1. 정규식, 특수 기호 삭제 (?!., 제외)\n",
    "    comment = text_cleaning(comment)\n",
    "\n",
    "    # 2. pykospacing, 띄어쓰기 교정\n",
    "    comment = spacing(comment)\n",
    "    \n",
    "    # 3. py-hanspell, 띄어쓰기 & 맞춤법 교정\n",
    "    spelled_comment = spell_checker.check(comment)\n",
    "    # 고칠 것이 있으면\n",
    "    if spelled_comment.result:\n",
    "        # 고칠 내용 적용해서 comment에 저장\n",
    "        comment = spelled_comment.checked\n",
    "        \n",
    "    # 4. 부산대 맞춤법 교정기, 띄어쓰기 & 맞춤법 교정\n",
    "    checked_comment = spell_checking(comment)\n",
    "    # 고쳐진 내용이 있으면\n",
    "    if checked_comment :\n",
    "        # 그 내용 return\n",
    "        return checked_comment\n",
    "    # 없으면\n",
    "    else:\n",
    "        # 원래 내용 return\n",
    "        return comment\n"
   ]
  },
  {
   "cell_type": "markdown",
   "metadata": {},
   "source": [
    "## 댓글 칼럼 전처리"
   ]
  },
  {
   "cell_type": "code",
   "execution_count": 10,
   "metadata": {},
   "outputs": [
    {
     "name": "stdout",
     "output_type": "stream",
     "text": [
      "0번째 댓글 수정\n"
     ]
    },
    {
     "ename": "WebDriverException",
     "evalue": "Message: unknown error: net::ERR_CONNECTION_RESET\n  (Session info: headless chrome=90.0.4430.93)\n",
     "output_type": "error",
     "traceback": [
      "\u001b[1;31m---------------------------------------------------------------------------\u001b[0m",
      "\u001b[1;31mWebDriverException\u001b[0m                        Traceback (most recent call last)",
      "\u001b[1;32m<ipython-input-10-ae90a4a1481f>\u001b[0m in \u001b[0;36m<module>\u001b[1;34m\u001b[0m\n\u001b[0;32m      1\u001b[0m \u001b[0mcomment_re_list\u001b[0m \u001b[1;33m=\u001b[0m \u001b[1;33m[\u001b[0m\u001b[1;33m]\u001b[0m\u001b[1;33m\u001b[0m\u001b[1;33m\u001b[0m\u001b[0m\n\u001b[0;32m      2\u001b[0m \u001b[1;32mfor\u001b[0m \u001b[0midx\u001b[0m\u001b[1;33m,\u001b[0m \u001b[0mcomment\u001b[0m \u001b[1;32min\u001b[0m \u001b[0menumerate\u001b[0m\u001b[1;33m(\u001b[0m\u001b[0mdf\u001b[0m\u001b[1;33m[\u001b[0m\u001b[1;34m'Comment'\u001b[0m\u001b[1;33m]\u001b[0m\u001b[1;33m)\u001b[0m\u001b[1;33m:\u001b[0m\u001b[1;33m\u001b[0m\u001b[1;33m\u001b[0m\u001b[0m\n\u001b[1;32m----> 3\u001b[1;33m     \u001b[0mcomment_re\u001b[0m \u001b[1;33m=\u001b[0m \u001b[0mtextPreprocessing\u001b[0m\u001b[1;33m(\u001b[0m\u001b[0mcomment\u001b[0m\u001b[1;33m)\u001b[0m\u001b[1;33m\u001b[0m\u001b[1;33m\u001b[0m\u001b[0m\n\u001b[0m\u001b[0;32m      4\u001b[0m     \u001b[1;31m# print(f'원문 : {comment}')\u001b[0m\u001b[1;33m\u001b[0m\u001b[1;33m\u001b[0m\u001b[1;33m\u001b[0m\u001b[0m\n\u001b[0;32m      5\u001b[0m     \u001b[1;31m# print(f'수정 : {comment_re}')\u001b[0m\u001b[1;33m\u001b[0m\u001b[1;33m\u001b[0m\u001b[1;33m\u001b[0m\u001b[0m\n",
      "\u001b[1;32m<ipython-input-9-6a7dc87b5601>\u001b[0m in \u001b[0;36mtextPreprocessing\u001b[1;34m(comment)\u001b[0m\n\u001b[0;32m     19\u001b[0m \u001b[1;33m\u001b[0m\u001b[0m\n\u001b[0;32m     20\u001b[0m     \u001b[1;31m# 4. 부산대 맞춤법 교정기, 띄어쓰기 & 맞춤법 교정\u001b[0m\u001b[1;33m\u001b[0m\u001b[1;33m\u001b[0m\u001b[1;33m\u001b[0m\u001b[0m\n\u001b[1;32m---> 21\u001b[1;33m     \u001b[0mchecked_comment\u001b[0m \u001b[1;33m=\u001b[0m \u001b[0mspell_checking\u001b[0m\u001b[1;33m(\u001b[0m\u001b[0mcomment\u001b[0m\u001b[1;33m)\u001b[0m\u001b[1;33m\u001b[0m\u001b[1;33m\u001b[0m\u001b[0m\n\u001b[0m\u001b[0;32m     22\u001b[0m     \u001b[1;31m# 고쳐진 내용이 있으면\u001b[0m\u001b[1;33m\u001b[0m\u001b[1;33m\u001b[0m\u001b[1;33m\u001b[0m\u001b[0m\n\u001b[0;32m     23\u001b[0m     \u001b[1;32mif\u001b[0m \u001b[0mchecked_comment\u001b[0m \u001b[1;33m:\u001b[0m\u001b[1;33m\u001b[0m\u001b[1;33m\u001b[0m\u001b[0m\n",
      "\u001b[1;32m<ipython-input-8-b290cba093e8>\u001b[0m in \u001b[0;36mspell_checking\u001b[1;34m(sentence)\u001b[0m\n\u001b[0;32m     10\u001b[0m \u001b[1;32mdef\u001b[0m \u001b[0mspell_checking\u001b[0m\u001b[1;33m(\u001b[0m\u001b[0msentence\u001b[0m\u001b[1;33m)\u001b[0m\u001b[1;33m:\u001b[0m\u001b[1;33m\u001b[0m\u001b[1;33m\u001b[0m\u001b[0m\n\u001b[0;32m     11\u001b[0m     \u001b[0mtime\u001b[0m\u001b[1;33m.\u001b[0m\u001b[0msleep\u001b[0m\u001b[1;33m(\u001b[0m\u001b[1;36m0.5\u001b[0m\u001b[1;33m)\u001b[0m\u001b[1;33m\u001b[0m\u001b[1;33m\u001b[0m\u001b[0m\n\u001b[1;32m---> 12\u001b[1;33m     \u001b[0mwd\u001b[0m\u001b[1;33m.\u001b[0m\u001b[0mget\u001b[0m\u001b[1;33m(\u001b[0m\u001b[1;34m'http://speller.cs.pusan.ac.kr/'\u001b[0m\u001b[1;33m)\u001b[0m\u001b[1;33m\u001b[0m\u001b[1;33m\u001b[0m\u001b[0m\n\u001b[0m\u001b[0;32m     13\u001b[0m     \u001b[1;32mtry\u001b[0m\u001b[1;33m:\u001b[0m\u001b[1;33m\u001b[0m\u001b[1;33m\u001b[0m\u001b[0m\n\u001b[0;32m     14\u001b[0m         \u001b[0mwd\u001b[0m\u001b[1;33m.\u001b[0m\u001b[0mfind_element_by_xpath\u001b[0m\u001b[1;33m(\u001b[0m\u001b[1;34m'//*[@id=\"text1\"]'\u001b[0m\u001b[1;33m)\u001b[0m\u001b[1;33m.\u001b[0m\u001b[0msend_keys\u001b[0m\u001b[1;33m(\u001b[0m\u001b[0msentence\u001b[0m\u001b[1;33m)\u001b[0m\u001b[1;33m\u001b[0m\u001b[1;33m\u001b[0m\u001b[0m\n",
      "\u001b[1;32mC:\\ProgramData\\Anaconda3\\lib\\site-packages\\selenium\\webdriver\\remote\\webdriver.py\u001b[0m in \u001b[0;36mget\u001b[1;34m(self, url)\u001b[0m\n\u001b[0;32m    331\u001b[0m         \u001b[0mLoads\u001b[0m \u001b[0ma\u001b[0m \u001b[0mweb\u001b[0m \u001b[0mpage\u001b[0m \u001b[1;32min\u001b[0m \u001b[0mthe\u001b[0m \u001b[0mcurrent\u001b[0m \u001b[0mbrowser\u001b[0m \u001b[0msession\u001b[0m\u001b[1;33m.\u001b[0m\u001b[1;33m\u001b[0m\u001b[1;33m\u001b[0m\u001b[0m\n\u001b[0;32m    332\u001b[0m         \"\"\"\n\u001b[1;32m--> 333\u001b[1;33m         \u001b[0mself\u001b[0m\u001b[1;33m.\u001b[0m\u001b[0mexecute\u001b[0m\u001b[1;33m(\u001b[0m\u001b[0mCommand\u001b[0m\u001b[1;33m.\u001b[0m\u001b[0mGET\u001b[0m\u001b[1;33m,\u001b[0m \u001b[1;33m{\u001b[0m\u001b[1;34m'url'\u001b[0m\u001b[1;33m:\u001b[0m \u001b[0murl\u001b[0m\u001b[1;33m}\u001b[0m\u001b[1;33m)\u001b[0m\u001b[1;33m\u001b[0m\u001b[1;33m\u001b[0m\u001b[0m\n\u001b[0m\u001b[0;32m    334\u001b[0m \u001b[1;33m\u001b[0m\u001b[0m\n\u001b[0;32m    335\u001b[0m     \u001b[1;33m@\u001b[0m\u001b[0mproperty\u001b[0m\u001b[1;33m\u001b[0m\u001b[1;33m\u001b[0m\u001b[0m\n",
      "\u001b[1;32mC:\\ProgramData\\Anaconda3\\lib\\site-packages\\selenium\\webdriver\\remote\\webdriver.py\u001b[0m in \u001b[0;36mexecute\u001b[1;34m(self, driver_command, params)\u001b[0m\n\u001b[0;32m    319\u001b[0m         \u001b[0mresponse\u001b[0m \u001b[1;33m=\u001b[0m \u001b[0mself\u001b[0m\u001b[1;33m.\u001b[0m\u001b[0mcommand_executor\u001b[0m\u001b[1;33m.\u001b[0m\u001b[0mexecute\u001b[0m\u001b[1;33m(\u001b[0m\u001b[0mdriver_command\u001b[0m\u001b[1;33m,\u001b[0m \u001b[0mparams\u001b[0m\u001b[1;33m)\u001b[0m\u001b[1;33m\u001b[0m\u001b[1;33m\u001b[0m\u001b[0m\n\u001b[0;32m    320\u001b[0m         \u001b[1;32mif\u001b[0m \u001b[0mresponse\u001b[0m\u001b[1;33m:\u001b[0m\u001b[1;33m\u001b[0m\u001b[1;33m\u001b[0m\u001b[0m\n\u001b[1;32m--> 321\u001b[1;33m             \u001b[0mself\u001b[0m\u001b[1;33m.\u001b[0m\u001b[0merror_handler\u001b[0m\u001b[1;33m.\u001b[0m\u001b[0mcheck_response\u001b[0m\u001b[1;33m(\u001b[0m\u001b[0mresponse\u001b[0m\u001b[1;33m)\u001b[0m\u001b[1;33m\u001b[0m\u001b[1;33m\u001b[0m\u001b[0m\n\u001b[0m\u001b[0;32m    322\u001b[0m             response['value'] = self._unwrap_value(\n\u001b[0;32m    323\u001b[0m                 response.get('value', None))\n",
      "\u001b[1;32mC:\\ProgramData\\Anaconda3\\lib\\site-packages\\selenium\\webdriver\\remote\\errorhandler.py\u001b[0m in \u001b[0;36mcheck_response\u001b[1;34m(self, response)\u001b[0m\n\u001b[0;32m    240\u001b[0m                 \u001b[0malert_text\u001b[0m \u001b[1;33m=\u001b[0m \u001b[0mvalue\u001b[0m\u001b[1;33m[\u001b[0m\u001b[1;34m'alert'\u001b[0m\u001b[1;33m]\u001b[0m\u001b[1;33m.\u001b[0m\u001b[0mget\u001b[0m\u001b[1;33m(\u001b[0m\u001b[1;34m'text'\u001b[0m\u001b[1;33m)\u001b[0m\u001b[1;33m\u001b[0m\u001b[1;33m\u001b[0m\u001b[0m\n\u001b[0;32m    241\u001b[0m             \u001b[1;32mraise\u001b[0m \u001b[0mexception_class\u001b[0m\u001b[1;33m(\u001b[0m\u001b[0mmessage\u001b[0m\u001b[1;33m,\u001b[0m \u001b[0mscreen\u001b[0m\u001b[1;33m,\u001b[0m \u001b[0mstacktrace\u001b[0m\u001b[1;33m,\u001b[0m \u001b[0malert_text\u001b[0m\u001b[1;33m)\u001b[0m\u001b[1;33m\u001b[0m\u001b[1;33m\u001b[0m\u001b[0m\n\u001b[1;32m--> 242\u001b[1;33m         \u001b[1;32mraise\u001b[0m \u001b[0mexception_class\u001b[0m\u001b[1;33m(\u001b[0m\u001b[0mmessage\u001b[0m\u001b[1;33m,\u001b[0m \u001b[0mscreen\u001b[0m\u001b[1;33m,\u001b[0m \u001b[0mstacktrace\u001b[0m\u001b[1;33m)\u001b[0m\u001b[1;33m\u001b[0m\u001b[1;33m\u001b[0m\u001b[0m\n\u001b[0m\u001b[0;32m    243\u001b[0m \u001b[1;33m\u001b[0m\u001b[0m\n\u001b[0;32m    244\u001b[0m     \u001b[1;32mdef\u001b[0m \u001b[0m_value_or_default\u001b[0m\u001b[1;33m(\u001b[0m\u001b[0mself\u001b[0m\u001b[1;33m,\u001b[0m \u001b[0mobj\u001b[0m\u001b[1;33m,\u001b[0m \u001b[0mkey\u001b[0m\u001b[1;33m,\u001b[0m \u001b[0mdefault\u001b[0m\u001b[1;33m)\u001b[0m\u001b[1;33m:\u001b[0m\u001b[1;33m\u001b[0m\u001b[1;33m\u001b[0m\u001b[0m\n",
      "\u001b[1;31mWebDriverException\u001b[0m: Message: unknown error: net::ERR_CONNECTION_RESET\n  (Session info: headless chrome=90.0.4430.93)\n"
     ]
    }
   ],
   "source": [
    "comment_re_list = []\n",
    "for idx, comment in enumerate(df['Comment']):\n",
    "    comment_re = textPreprocessing(comment)\n",
    "    # print(f'원문 : {comment}')\n",
    "    # print(f'수정 : {comment_re}')\n",
    "    # print('-'*50)\n",
    "    \n",
    "    comment_re_list.append(comment_re)\n",
    "    \n",
    "    if idx % 1000 == 0:\n",
    "        print(f'{idx}번째 댓글 수정')\n",
    "    "
   ]
  },
  {
   "cell_type": "code",
   "execution_count": null,
   "metadata": {},
   "outputs": [],
   "source": [
    "import pickle\n",
    "\n",
    "filePath = './test.txt'\n",
    "with open(filePath, 'wb') as lf:\n",
    "    pickle.dump(comment_re_list, lf)\n",
    "\n",
    "\n",
    "with open(filePath, 'rb') as lf:\n",
    "    readList = pickle.load(lf)\n",
    "    print(readList)\n",
    "    # ['123', '456', 'abc', 'def']"
   ]
  },
  {
   "cell_type": "code",
   "execution_count": 15,
   "metadata": {},
   "outputs": [
    {
     "data": {
      "text/plain": [
       "1165"
      ]
     },
     "execution_count": 15,
     "metadata": {},
     "output_type": "execute_result"
    }
   ],
   "source": [
    "idx"
   ]
  },
  {
   "cell_type": "code",
   "execution_count": 28,
   "metadata": {},
   "outputs": [
    {
     "data": {
      "text/plain": [
       "7574"
      ]
     },
     "execution_count": 28,
     "metadata": {},
     "output_type": "execute_result"
    }
   ],
   "source": [
    "len(comment_re_list)"
   ]
  },
  {
   "cell_type": "code",
   "execution_count": 29,
   "metadata": {
    "scrolled": true
   },
   "outputs": [
    {
     "data": {
      "text/plain": [
       "'ㅋㅋㅋㅋㅋㅋ  최진봉아 그럼  문재앙 정부는 본인의 능력으로 정권잡았냐 ㅋㅋㅋㅋㅋ ㅈㄴ 웃기는 색히네'"
      ]
     },
     "execution_count": 29,
     "metadata": {},
     "output_type": "execute_result"
    }
   ],
   "source": [
    "df['Comment'].iloc[len(comment_re_list)-1]"
   ]
  },
  {
   "cell_type": "code",
   "execution_count": 34,
   "metadata": {},
   "outputs": [
    {
     "data": {
      "text/plain": [
       "'크크크 최진봉 안 그럼 문재원 정부는 본인의 능력으로 정권 잡았냐 크크크 전 웃기는 새끼네'"
      ]
     },
     "execution_count": 34,
     "metadata": {},
     "output_type": "execute_result"
    }
   ],
   "source": [
    "comment_re_list[-1]"
   ]
  },
  {
   "cell_type": "code",
   "execution_count": null,
   "metadata": {},
   "outputs": [
    {
     "name": "stdout",
     "output_type": "stream",
     "text": [
      "0번째 댓글 수정\n"
     ]
    }
   ],
   "source": [
    "for idx, comment in enumerate(df['Comment'][len(comment_re_list):]):\n",
    "    comment_re = textPreprocessing(comment)\n",
    "    # print(f'원문 : {comment}')\n",
    "    # print(f'수정 : {comment_re}')\n",
    "    # print('-'*50)\n",
    "    \n",
    "    comment_re_list.append(comment_re)\n",
    "    \n",
    "    if idx % 1000 == 0:\n",
    "        print(f'{idx}번째 댓글 수정')\n",
    "    "
   ]
  },
  {
   "cell_type": "code",
   "execution_count": null,
   "metadata": {},
   "outputs": [],
   "source": []
  }
 ],
 "metadata": {
  "interpreter": {
   "hash": "6bd18ff4b8d78789dc0c4fe3ce3d1752f57bd4a78312d15f34612069d81af063"
  },
  "kernelspec": {
   "display_name": "Python 3.7.6 64-bit (conda)",
   "name": "python3"
  },
  "language_info": {
   "codemirror_mode": {
    "name": "ipython",
    "version": 3
   },
   "file_extension": ".py",
   "mimetype": "text/x-python",
   "name": "python",
   "nbconvert_exporter": "python",
   "pygments_lexer": "ipython3",
   "version": "3.7.6"
  }
 },
 "nbformat": 4,
 "nbformat_minor": 4
}