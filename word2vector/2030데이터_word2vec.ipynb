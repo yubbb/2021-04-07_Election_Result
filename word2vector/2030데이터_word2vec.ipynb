{
 "cells": [
  {
   "cell_type": "markdown",
   "metadata": {},
   "source": [
    "# 2030 데이터로 Word2Vector사용하기"
   ]
  },
  {
   "cell_type": "code",
   "execution_count": 2,
   "metadata": {
    "ExecuteTime": {
     "end_time": "2021-04-27T04:53:49.536080Z",
     "start_time": "2021-04-27T04:53:48.352789Z"
    }
   },
   "outputs": [],
   "source": [
    "import pandas as pd\n",
    "import numpy as np\n",
    "import matplotlib.pyplot as plt \n",
    "import seaborn as sns \n",
    "import re\n",
    "plt.style.use('seaborn-whitegrid')\n",
    "plt.rcParams['font.family'] = 'Malgun Gothic'\n",
    "# plt.rcParams['font.family'] = 'AppleGothic'\n",
    "plt.rcParams['font.size'] = 10\n",
    "plt.rcParams['figure.figsize'] = 10,5\n",
    "plt.rcParams['axes.unicode_minus'] = False"
   ]
  },
  {
   "cell_type": "code",
   "execution_count": 9,
   "metadata": {
    "ExecuteTime": {
     "end_time": "2021-04-27T04:54:09.213701Z",
     "start_time": "2021-04-27T04:54:07.963373Z"
    }
   },
   "outputs": [
    {
     "data": {
      "text/html": "<div>\n<style scoped>\n    .dataframe tbody tr th:only-of-type {\n        vertical-align: middle;\n    }\n\n    .dataframe tbody tr th {\n        vertical-align: top;\n    }\n\n    .dataframe thead th {\n        text-align: right;\n    }\n</style>\n<table border=\"1\" class=\"dataframe\">\n  <thead>\n    <tr style=\"text-align: right;\">\n      <th></th>\n      <th>Title</th>\n      <th>Date</th>\n      <th>ID</th>\n      <th>Comment</th>\n      <th>Comment_date</th>\n      <th>Channel</th>\n      <th>Like</th>\n      <th>Dislike</th>\n      <th>Comment_like</th>\n      <th>Weighted_comment</th>\n      <th>Comment_textPreprocessing</th>\n    </tr>\n  </thead>\n  <tbody>\n    <tr>\n      <th>0</th>\n      <td>#139​ 민주당 지도부가 2030 마음을 얻으려면...</td>\n      <td>2021-04-08</td>\n      <td>샤인디케이</td>\n      <td>내리막이 있으면 다시 오르막이 있는 법, 예방주사라 생각하고 힘들 냅시다.</td>\n      <td>2021-04-10</td>\n      <td>박시영TV</td>\n      <td>6400.0</td>\n      <td>83.0</td>\n      <td>48.0</td>\n      <td>['내리막이 있으면 다시 오르막이 있는 법, 예방주사라 생각하고 힘들 냅시다.', ...</td>\n      <td>내리막이 있으면 다시 오르막이 있는 법, 예방주사라 생각하고 힘들 냅시다.</td>\n    </tr>\n    <tr>\n      <th>1</th>\n      <td>#139​ 민주당 지도부가 2030 마음을 얻으려면...</td>\n      <td>2021-04-08</td>\n      <td>문동렬</td>\n      <td>2030마음을 얻으려면 조언을 2030을 모셔다가 들어보는 성의를 보여야 됩니다. ...</td>\n      <td>2021-04-10</td>\n      <td>박시영TV</td>\n      <td>6400.0</td>\n      <td>83.0</td>\n      <td>37.0</td>\n      <td>['2030마음을 얻으려면 조언을 2030을 모셔다가 들어보는 성의를 보여야 됩니다...</td>\n      <td>2030 마음을 얻으려면 조언을 2030을 모셔다가 들어보는 성의를 보여야 합니다....</td>\n    </tr>\n    <tr>\n      <th>2</th>\n      <td>#139​ 민주당 지도부가 2030 마음을 얻으려면...</td>\n      <td>2021-04-08</td>\n      <td>135 swan</td>\n      <td>전 군대 전역 전까지는 보수를 지지했지만 대학에서 양극화에 관심을 가지면서 진보로 ...</td>\n      <td>2021-04-10</td>\n      <td>박시영TV</td>\n      <td>6400.0</td>\n      <td>83.0</td>\n      <td>34.0</td>\n      <td>['전 군대 전역 전까지는 보수를 지지했지만 대학에서 양극화에 관심을 가지면서 진보...</td>\n      <td>전 군대 전역 전까지는 보수를 지지했지만, 대학에서 양극화에 관심을 가지면서 진보로...</td>\n    </tr>\n    <tr>\n      <th>3</th>\n      <td>#139​ 민주당 지도부가 2030 마음을 얻으려면...</td>\n      <td>2021-04-08</td>\n      <td>미루</td>\n      <td>몸 안에서 무엇인가 무너져 내린 기분..그래도 힘내고 가야죠민주당은 뼈아픈 진단 새...</td>\n      <td>2021-04-10</td>\n      <td>박시영TV</td>\n      <td>6400.0</td>\n      <td>83.0</td>\n      <td>67.0</td>\n      <td>['몸 안에서 무엇인가 무너져 내린 기분..그래도 힘내고 가야죠민주당은 뼈아픈 진단...</td>\n      <td>몸 안에서 무엇인가 무너져 내린 기분.. 그래도 힘내고 가야죠. 민주당은 뼈아픈 진...</td>\n    </tr>\n    <tr>\n      <th>4</th>\n      <td>#139​ 민주당 지도부가 2030 마음을 얻으려면...</td>\n      <td>2021-04-08</td>\n      <td>단아란</td>\n      <td>네 죄송합니다. 삭제하겠습니다</td>\n      <td>2021-04-10</td>\n      <td>박시영TV</td>\n      <td>6400.0</td>\n      <td>83.0</td>\n      <td>34.0</td>\n      <td>['네 죄송합니다. 삭제하겠습니다', '네 죄송합니다. 삭제하겠습니다', '네 죄송...</td>\n      <td>네 죄송합니다. 삭제하겠습니다</td>\n    </tr>\n  </tbody>\n</table>\n</div>",
      "text/plain": "                             Title        Date        ID  \\\n0  #139​ 민주당 지도부가 2030 마음을 얻으려면...  2021-04-08     샤인디케이   \n1  #139​ 민주당 지도부가 2030 마음을 얻으려면...  2021-04-08       문동렬   \n2  #139​ 민주당 지도부가 2030 마음을 얻으려면...  2021-04-08  135 swan   \n3  #139​ 민주당 지도부가 2030 마음을 얻으려면...  2021-04-08        미루   \n4  #139​ 민주당 지도부가 2030 마음을 얻으려면...  2021-04-08       단아란   \n\n                                             Comment Comment_date Channel  \\\n0          내리막이 있으면 다시 오르막이 있는 법, 예방주사라 생각하고 힘들 냅시다.   2021-04-10   박시영TV   \n1  2030마음을 얻으려면 조언을 2030을 모셔다가 들어보는 성의를 보여야 됩니다. ...   2021-04-10   박시영TV   \n2  전 군대 전역 전까지는 보수를 지지했지만 대학에서 양극화에 관심을 가지면서 진보로 ...   2021-04-10   박시영TV   \n3  몸 안에서 무엇인가 무너져 내린 기분..그래도 힘내고 가야죠민주당은 뼈아픈 진단 새...   2021-04-10   박시영TV   \n4                                   네 죄송합니다. 삭제하겠습니다   2021-04-10   박시영TV   \n\n     Like  Dislike  Comment_like  \\\n0  6400.0     83.0          48.0   \n1  6400.0     83.0          37.0   \n2  6400.0     83.0          34.0   \n3  6400.0     83.0          67.0   \n4  6400.0     83.0          34.0   \n\n                                    Weighted_comment  \\\n0  ['내리막이 있으면 다시 오르막이 있는 법, 예방주사라 생각하고 힘들 냅시다.', ...   \n1  ['2030마음을 얻으려면 조언을 2030을 모셔다가 들어보는 성의를 보여야 됩니다...   \n2  ['전 군대 전역 전까지는 보수를 지지했지만 대학에서 양극화에 관심을 가지면서 진보...   \n3  ['몸 안에서 무엇인가 무너져 내린 기분..그래도 힘내고 가야죠민주당은 뼈아픈 진단...   \n4  ['네 죄송합니다. 삭제하겠습니다', '네 죄송합니다. 삭제하겠습니다', '네 죄송...   \n\n                           Comment_textPreprocessing  \n0          내리막이 있으면 다시 오르막이 있는 법, 예방주사라 생각하고 힘들 냅시다.  \n1  2030 마음을 얻으려면 조언을 2030을 모셔다가 들어보는 성의를 보여야 합니다....  \n2  전 군대 전역 전까지는 보수를 지지했지만, 대학에서 양극화에 관심을 가지면서 진보로...  \n3  몸 안에서 무엇인가 무너져 내린 기분.. 그래도 힘내고 가야죠. 민주당은 뼈아픈 진...  \n4                                   네 죄송합니다. 삭제하겠습니다  "
     },
     "execution_count": 9,
     "metadata": {},
     "output_type": "execute_result"
    }
   ],
   "source": [
    "df = pd.read_csv('../2030표심 및 정치성향 분석/data/전처리데이터/data2030_전처리_좋아요가중치_텍스트전처리.csv')\r\n",
    "df.head()"
   ]
  },
  {
   "cell_type": "code",
   "execution_count": 12,
   "metadata": {
    "ExecuteTime": {
     "end_time": "2021-04-27T04:54:15.081177Z",
     "start_time": "2021-04-27T04:54:15.077189Z"
    }
   },
   "outputs": [
    {
     "data": {
      "text/plain": "(56829, 11)"
     },
     "execution_count": 12,
     "metadata": {},
     "output_type": "execute_result"
    }
   ],
   "source": [
    "# 데이터 구조 파악하기\n",
    "df.shape"
   ]
  },
  {
   "cell_type": "markdown",
   "metadata": {},
   "source": [
    "https://wikidocs.net/book/2155"
   ]
  },
  {
   "cell_type": "markdown",
   "metadata": {},
   "source": [
    "# 1. Word2Vec\n",
    "- 각 단어 벡터가 단어 간 유사도를 반영\n",
    "- '비슷한 위치에서 등장하는 단어들은 비슷한 의미를 가진다'"
   ]
  },
  {
   "cell_type": "code",
   "execution_count": 8,
   "metadata": {
    "ExecuteTime": {
     "end_time": "2021-04-27T04:55:18.388964Z",
     "start_time": "2021-04-27T04:55:18.002991Z"
    }
   },
   "outputs": [],
   "source": [
    "import pandas as pd\r\n",
    "import matplotlib.pyplot as plt\r\n",
    "import urllib.request\r\n",
    "from gensim.models.word2vec import Word2Vec\r\n",
    "from konlpy.tag import Okt"
   ]
  },
  {
   "cell_type": "code",
   "execution_count": 10,
   "metadata": {},
   "outputs": [
    {
     "data": {
      "text/plain": "Index(['Title', 'Date', 'ID', 'Comment', 'Comment_date', 'Channel', 'Like',\n       'Dislike', 'Comment_like', 'Weighted_comment',\n       'Comment_textPreprocessing'],\n      dtype='object')"
     },
     "execution_count": 10,
     "metadata": {},
     "output_type": "execute_result"
    }
   ],
   "source": [
    "df.columns"
   ]
  },
  {
   "cell_type": "code",
   "execution_count": 11,
   "metadata": {
    "ExecuteTime": {
     "end_time": "2021-04-27T04:55:18.404935Z",
     "start_time": "2021-04-27T04:55:18.400929Z"
    }
   },
   "outputs": [
    {
     "data": {
      "text/plain": "(56829,)"
     },
     "execution_count": 11,
     "metadata": {},
     "output_type": "execute_result"
    }
   ],
   "source": [
    "df['Comment_textPreprocessing'].shape"
   ]
  },
  {
   "cell_type": "code",
   "execution_count": 13,
   "metadata": {
    "ExecuteTime": {
     "end_time": "2021-04-27T04:55:18.432842Z",
     "start_time": "2021-04-27T04:55:18.416884Z"
    }
   },
   "outputs": [
    {
     "data": {
      "text/plain": "120"
     },
     "execution_count": 13,
     "metadata": {},
     "output_type": "execute_result"
    }
   ],
   "source": [
    "# Null값 \r\n",
    "df['Comment_textPreprocessing'].isnull().sum()"
   ]
  },
  {
   "cell_type": "markdown",
   "metadata": {},
   "source": [
    "### 1.1 한글 정규 표현식으로 한글 외 문자 제거"
   ]
  },
  {
   "cell_type": "code",
   "execution_count": 15,
   "metadata": {
    "ExecuteTime": {
     "end_time": "2021-04-27T04:55:29.445855Z",
     "start_time": "2021-04-27T04:55:29.441865Z"
    }
   },
   "outputs": [],
   "source": [
    "def text_clearing(text):\n",
    "    # 한글 정규식\n",
    "    hangul = re.compile('[^ ㄱ-ㅣ가-힣]+')\n",
    "    \n",
    "    # 한글 외의 모든 문자를 길이가 0인 문자열로 변형\n",
    "    result = hangul.sub('', text)\n",
    "    \n",
    "    return result"
   ]
  },
  {
   "cell_type": "code",
   "execution_count": 16,
   "metadata": {
    "ExecuteTime": {
     "end_time": "2021-04-27T04:55:30.245072Z",
     "start_time": "2021-04-27T04:55:29.604280Z"
    }
   },
   "outputs": [],
   "source": [
    "df['제목댓글'] = df['제목댓글'].apply( lambda x: text_clearing(x))"
   ]
  },
  {
   "cell_type": "code",
   "execution_count": 17,
   "metadata": {
    "ExecuteTime": {
     "end_time": "2021-04-27T04:55:34.493836Z",
     "start_time": "2021-04-27T04:55:34.489846Z"
    }
   },
   "outputs": [],
   "source": [
    "# 불용어 정의\n",
    "stopwords = ['의','가','이','은','들','는','좀','잘','걍','과','도','를','으로','자','에','와','한','하다']"
   ]
  },
  {
   "cell_type": "code",
   "execution_count": 18,
   "metadata": {
    "ExecuteTime": {
     "end_time": "2021-04-27T05:04:52.867793Z",
     "start_time": "2021-04-27T04:55:39.562319Z"
    }
   },
   "outputs": [],
   "source": [
    "# 형태소 정의\n",
    "okt = Okt()\n",
    "tokenized_data = []\n",
    "for sentence in df['제목댓글']:\n",
    "    temp_X = okt.morphs(sentence, stem=True) # 토큰화\n",
    "    temp_X = [word for word in temp_X if not word in stopwords] # 불용어 제거\n",
    "    tokenized_data.append(temp_X)"
   ]
  },
  {
   "cell_type": "code",
   "execution_count": 19,
   "metadata": {
    "ExecuteTime": {
     "end_time": "2021-04-27T05:04:53.623563Z",
     "start_time": "2021-04-27T05:04:53.406637Z"
    }
   },
   "outputs": [
    {
     "name": "stdout",
     "output_type": "stream",
     "text": [
      "제목+댓글내용의 최대 길이 : 1266\n",
      "제목+댓글내용의 평균 길이 : 35.0215000797841\n"
     ]
    },
    {
     "data": {
      "image/png": "[encoded data removed]",
      "text/plain": [
       "<Figure size 720x360 with 1 Axes>"
      ]
     },
     "metadata": {},
     "output_type": "display_data"
    }
   ],
   "source": [
    "# 제목+댓글내용 길이 분포 확인\n",
    "print('제목+댓글내용의 최대 길이 :',max(len(l) for l in tokenized_data))\n",
    "print('제목+댓글내용의 평균 길이 :',sum(map(len, tokenized_data))/len(tokenized_data))\n",
    "plt.hist([len(s) for s in tokenized_data], bins=50)\n",
    "plt.xlabel('length of samples')\n",
    "plt.ylabel('number of samples')\n",
    "plt.show()"
   ]
  },
  {
   "cell_type": "markdown",
   "metadata": {},
   "source": [
    "### 1.2  Word2Vec 훈련시키기\n",
    "- (없음)size = 워드 벡터의 특징 값. 즉, 임베딩 된 벡터의 차원.\n",
    "- window = 컨텍스트 윈도우 크기\n",
    "- min_count = 단어 최소 빈도 수 제한 (빈도가 적은 단어들은 학습하지 않는다.)\n",
    "- workers = 학습을 위한 프로세스 수\n",
    "- sg = 0은 CBOW, 1은 Skip-gram."
   ]
  },
  {
   "cell_type": "code",
   "execution_count": 20,
   "metadata": {
    "ExecuteTime": {
     "end_time": "2021-04-27T05:11:31.475827Z",
     "start_time": "2021-04-27T05:11:21.127878Z"
    }
   },
   "outputs": [],
   "source": [
    "from gensim.models import Word2Vec\n",
    "model = Word2Vec(sentences = tokenized_data, window = 5, min_count = 5, workers = 4, sg = 0)"
   ]
  },
  {
   "cell_type": "code",
   "execution_count": 21,
   "metadata": {
    "ExecuteTime": {
     "end_time": "2021-04-27T05:11:32.005408Z",
     "start_time": "2021-04-27T05:11:32.000430Z"
    }
   },
   "outputs": [
    {
     "data": {
      "text/plain": [
       "(21963, 100)"
      ]
     },
     "execution_count": 21,
     "metadata": {},
     "output_type": "execute_result"
    }
   ],
   "source": [
    "# 완성된 임베딩 매트릭스의 크기 확인\n",
    "model.wv.vectors.shape"
   ]
  },
  {
   "cell_type": "code",
   "execution_count": 22,
   "metadata": {
    "ExecuteTime": {
     "end_time": "2021-04-27T05:11:32.556363Z",
     "start_time": "2021-04-27T05:11:32.542415Z"
    }
   },
   "outputs": [
    {
     "name": "stdout",
     "output_type": "stream",
     "text": [
      "[('오세훈', 0.5764411687850952), ('영선', 0.5106866359710693), ('초조하다', 0.4529839754104614), ('어버버', 0.42676475644111633), ('무선전화', 0.42290782928466797), ('직언', 0.4217921793460846), ('박형준', 0.4149248003959656), ('적합', 0.4129553735256195), ('나경원', 0.4104486405849457), ('이원조', 0.4095178246498108)]\n"
     ]
    }
   ],
   "source": [
    "print(model.wv.most_similar(\"박영선\"))"
   ]
  },
  {
   "cell_type": "code",
   "execution_count": 23,
   "metadata": {
    "ExecuteTime": {
     "end_time": "2021-04-27T05:11:33.101968Z",
     "start_time": "2021-04-27T05:11:33.097970Z"
    }
   },
   "outputs": [
    {
     "name": "stdout",
     "output_type": "stream",
     "text": [
      "[('세훈', 0.5848418474197388), ('박영선', 0.5764411687850952), ('초조하다', 0.4346209764480591), ('김영춘', 0.43386954069137573), ('금태섭', 0.4278375506401062), ('유선', 0.4111238718032837), ('내곡동', 0.40984031558036804), ('불꽃', 0.4010070264339447), ('오', 0.3994719684123993), ('유력하다', 0.399166077375412)]\n"
     ]
    }
   ],
   "source": [
    "print(model.wv.most_similar(\"오세훈\"))"
   ]
  },
  {
   "cell_type": "code",
   "execution_count": 24,
   "metadata": {
    "ExecuteTime": {
     "end_time": "2021-04-27T05:11:33.646541Z",
     "start_time": "2021-04-27T05:11:33.641555Z"
    }
   },
   "outputs": [
    {
     "name": "stdout",
     "output_type": "stream",
     "text": [
      "[('이언주', 0.5599566102027893), ('박형준', 0.5590013861656189), ('대박', 0.5197573304176331), ('정규재', 0.5175073742866516), ('해운대', 0.5071338415145874), ('올인', 0.4768833816051483), ('부산', 0.4567868411540985), ('조강지처', 0.44635123014450073), ('바다이야기', 0.43766355514526367), ('이진복', 0.43741574883461)]\n"
     ]
    }
   ],
   "source": [
    "print(model.wv.most_similar(\"김영춘\"))"
   ]
  },
  {
   "cell_type": "code",
   "execution_count": 25,
   "metadata": {
    "ExecuteTime": {
     "end_time": "2021-04-27T05:11:34.165688Z",
     "start_time": "2021-04-27T05:11:34.160688Z"
    },
    "scrolled": true
   },
   "outputs": [
    {
     "name": "stdout",
     "output_type": "stream",
     "text": [
      "[('김영춘', 0.5590013265609741), ('자갈치', 0.4380435645580292), ('박영선', 0.4149247407913208), ('환조', 0.3987842798233032), ('엠비', 0.39268428087234497), ('무선전화', 0.3913780450820923), ('엘', 0.38856780529022217), ('은희', 0.38589486479759216), ('정규재', 0.38456737995147705), ('부인', 0.38181737065315247)]\n"
     ]
    }
   ],
   "source": [
    "print(model.wv.most_similar(\"박형준\"))"
   ]
  },
  {
   "cell_type": "markdown",
   "metadata": {},
   "source": [
    "### 1.3 모델 저장"
   ]
  },
  {
   "cell_type": "code",
   "execution_count": 26,
   "metadata": {
    "ExecuteTime": {
     "end_time": "2021-04-27T05:14:54.774910Z",
     "start_time": "2021-04-27T05:14:53.498715Z"
    }
   },
   "outputs": [],
   "source": [
    "from gensim.models import KeyedVectors\n",
    "# 모델 저장\n",
    "model.wv.save_word2vec_format('model/word2vec/w2v_TitleComments_0427')"
   ]
  },
  {
   "cell_type": "code",
   "execution_count": 1,
   "metadata": {
    "ExecuteTime": {
     "end_time": "2021-04-27T05:19:55.066151Z",
     "start_time": "2021-04-27T05:19:52.808325Z"
    }
   },
   "outputs": [],
   "source": [
    " # 모델 로드\n",
    "from gensim.models import KeyedVectors\n",
    "loaded_model = KeyedVectors.load_word2vec_format(\"./w2v_TitleComments_0427\")"
   ]
  },
  {
   "cell_type": "code",
   "execution_count": 3,
   "metadata": {
    "ExecuteTime": {
     "end_time": "2021-04-27T05:38:10.449564Z",
     "start_time": "2021-04-27T05:38:10.444578Z"
    },
    "scrolled": true
   },
   "outputs": [
    {
     "name": "stdout",
     "output_type": "stream",
     "text": [
      "[('여당', 0.5833343267440796), ('지당', 0.505938708782196), ('정의당', 0.4959515929222107), ('만지다', 0.4899117350578308), ('민주', 0.47781601548194885), ('당', 0.42012691497802734), ('야당', 0.415071040391922), ('여권', 0.4129944443702698), ('보궐', 0.4082983136177063), ('더듬다', 0.40013939142227173)]\n"
     ]
    }
   ],
   "source": [
    "model_result = loaded_model.most_similar(\"민주당\",topn=10)\n",
    "print(model_result)"
   ]
  },
  {
   "cell_type": "code",
   "execution_count": 4,
   "metadata": {
    "ExecuteTime": {
     "end_time": "2021-04-27T05:38:31.753584Z",
     "start_time": "2021-04-27T05:38:31.747600Z"
    }
   },
   "outputs": [
    {
     "name": "stdout",
     "output_type": "stream",
     "text": [
      "[('국짐', 0.8264971971511841), ('더민', 0.7123269438743591), ('구김', 0.6722763180732727), ('불민', 0.6586393713951111), ('국집', 0.6302757859230042), ('당대', 0.6089860200881958), ('더추', 0.5967254638671875), ('힘', 0.5951818823814392), ('더듬이', 0.5773580074310303), ('더블', 0.5682083964347839), ('정청', 0.5678206086158752), ('보수당', 0.5645935535430908), ('짐', 0.5555760860443115), ('덜민', 0.543167769908905), ('국똥', 0.5397177934646606), ('지지자', 0.5289016962051392), ('다수', 0.5119171738624573), ('창', 0.5115551948547363), ('홍준표', 0.49535682797431946), ('신돈', 0.4913056492805481)]\n"
     ]
    }
   ],
   "source": [
    "model_result = loaded_model.most_similar(\"국힘\",topn=20)\n",
    "print(model_result)"
   ]
  },
  {
   "cell_type": "code",
   "execution_count": 5,
   "metadata": {
    "ExecuteTime": {
     "end_time": "2021-04-27T05:39:06.473197Z",
     "start_time": "2021-04-27T05:39:06.468199Z"
    }
   },
   "outputs": [
    {
     "data": {
      "text/plain": [
       "[('세훈', 0.5848418474197388),\n",
       " ('박영선', 0.5764411687850952),\n",
       " ('초조하다', 0.4346209764480591),\n",
       " ('김영춘', 0.43386954069137573),\n",
       " ('금태섭', 0.4278375506401062),\n",
       " ('유선', 0.4111238718032837),\n",
       " ('내곡동', 0.40984031558036804),\n",
       " ('불꽃', 0.4010070264339447),\n",
       " ('오', 0.3994719684123993),\n",
       " ('유력하다', 0.399166077375412),\n",
       " ('우위', 0.39101722836494446),\n",
       " ('적합', 0.3858765661716461),\n",
       " ('상대', 0.38381409645080566),\n",
       " ('김진애', 0.3830387592315674),\n",
       " ('토론', 0.3821444511413574),\n",
       " ('나경원', 0.36653217673301697),\n",
       " ('세후니', 0.36534902453422546),\n",
       " ('도사', 0.3632289171218872),\n",
       " ('영선', 0.3608013689517975),\n",
       " ('대결', 0.35436075925827026)]"
      ]
     },
     "execution_count": 5,
     "metadata": {},
     "output_type": "execute_result"
    }
   ],
   "source": [
    "loaded_model.most_similar(\"오세훈\",topn=20)"
   ]
  },
  {
   "cell_type": "markdown",
   "metadata": {},
   "source": [
    "### 1.4 단어간 거리 확인\n",
    "- 코사인 유사도를 이용한 단어간 거리 확인"
   ]
  },
  {
   "cell_type": "code",
   "execution_count": 6,
   "metadata": {
    "ExecuteTime": {
     "end_time": "2021-04-27T05:35:06.309579Z",
     "start_time": "2021-04-27T05:35:06.305590Z"
    }
   },
   "outputs": [
    {
     "data": {
      "text/plain": [
       "0.8531581610441208"
      ]
     },
     "execution_count": 6,
     "metadata": {},
     "output_type": "execute_result"
    }
   ],
   "source": [
    "loaded_model.distance('오세훈', '화이팅')"
   ]
  },
  {
   "cell_type": "code",
   "execution_count": 7,
   "metadata": {
    "ExecuteTime": {
     "end_time": "2021-04-27T05:35:06.590860Z",
     "start_time": "2021-04-27T05:35:06.585873Z"
    }
   },
   "outputs": [
    {
     "data": {
      "text/plain": [
       "0.7453278601169586"
      ]
     },
     "execution_count": 7,
     "metadata": {},
     "output_type": "execute_result"
    }
   ],
   "source": [
    "loaded_model.distance('박영선', '화이팅')"
   ]
  },
  {
   "cell_type": "code",
   "execution_count": 8,
   "metadata": {
    "ExecuteTime": {
     "end_time": "2021-04-27T05:36:20.974423Z",
     "start_time": "2021-04-27T05:36:20.969437Z"
    }
   },
   "outputs": [
    {
     "data": {
      "text/plain": [
       "1.074504368007183"
      ]
     },
     "execution_count": 8,
     "metadata": {},
     "output_type": "execute_result"
    }
   ],
   "source": [
    "loaded_model.distance('오세훈', '망하다')"
   ]
  },
  {
   "cell_type": "code",
   "execution_count": 9,
   "metadata": {
    "ExecuteTime": {
     "end_time": "2021-04-27T05:36:29.027597Z",
     "start_time": "2021-04-27T05:36:29.022602Z"
    }
   },
   "outputs": [
    {
     "data": {
      "text/plain": [
       "1.0924549922347069"
      ]
     },
     "execution_count": 9,
     "metadata": {},
     "output_type": "execute_result"
    }
   ],
   "source": [
    "loaded_model.distance('박영선', '망하다')"
   ]
  },
  {
   "cell_type": "markdown",
   "metadata": {},
   "source": [
    "# Permission denied:\n",
    "파일 경로가 이상하거나 파일이 아닌 폴더 경로 등을 지정할 경우 오류가 발생한다. \n",
    "\n",
    "출처: https://yjs-program.tistory.com/115 [Y초보프로그래머]"
   ]
  },
  {
   "cell_type": "code",
   "execution_count": null,
   "metadata": {},
   "outputs": [],
   "source": []
  },
  {
   "cell_type": "code",
   "execution_count": null,
   "metadata": {},
   "outputs": [],
   "source": []
  },
  {
   "cell_type": "code",
   "execution_count": null,
   "metadata": {},
   "outputs": [],
   "source": []
  }
 ],
 "metadata": {
  "language_info": {},
  "orig_nbformat": 3
 },
 "nbformat": 4,
 "nbformat_minor": 4
}